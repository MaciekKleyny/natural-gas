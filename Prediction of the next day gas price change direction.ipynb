{
 "cells": [
  {
   "cell_type": "code",
   "execution_count": 13,
   "metadata": {},
   "outputs": [],
   "source": [
    "import quandl\n",
    "import pandas as pd"
   ]
  },
  {
   "cell_type": "code",
   "execution_count": 7,
   "metadata": {},
   "outputs": [],
   "source": [
    "data = quandl.get(\"CHRIS/CME_NG1\")\n",
    "data.sort_index(ascending=False, inplace = True)"
   ]
  },
  {
   "cell_type": "code",
   "execution_count": 8,
   "metadata": {},
   "outputs": [
    {
     "data": {
      "text/html": [
       "<div>\n",
       "<style scoped>\n",
       "    .dataframe tbody tr th:only-of-type {\n",
       "        vertical-align: middle;\n",
       "    }\n",
       "\n",
       "    .dataframe tbody tr th {\n",
       "        vertical-align: top;\n",
       "    }\n",
       "\n",
       "    .dataframe thead th {\n",
       "        text-align: right;\n",
       "    }\n",
       "</style>\n",
       "<table border=\"1\" class=\"dataframe\">\n",
       "  <thead>\n",
       "    <tr style=\"text-align: right;\">\n",
       "      <th></th>\n",
       "      <th>Open</th>\n",
       "      <th>High</th>\n",
       "      <th>Low</th>\n",
       "      <th>Last</th>\n",
       "      <th>Change</th>\n",
       "      <th>Settle</th>\n",
       "      <th>Volume</th>\n",
       "      <th>Previous Day Open Interest</th>\n",
       "    </tr>\n",
       "    <tr>\n",
       "      <th>Date</th>\n",
       "      <th></th>\n",
       "      <th></th>\n",
       "      <th></th>\n",
       "      <th></th>\n",
       "      <th></th>\n",
       "      <th></th>\n",
       "      <th></th>\n",
       "      <th></th>\n",
       "    </tr>\n",
       "  </thead>\n",
       "  <tbody>\n",
       "    <tr>\n",
       "      <th>2020-01-23</th>\n",
       "      <td>1.915</td>\n",
       "      <td>1.980</td>\n",
       "      <td>1.913</td>\n",
       "      <td>1.938</td>\n",
       "      <td>0.021</td>\n",
       "      <td>1.926</td>\n",
       "      <td>172317.0</td>\n",
       "      <td>91025.0</td>\n",
       "    </tr>\n",
       "    <tr>\n",
       "      <th>2020-01-22</th>\n",
       "      <td>1.912</td>\n",
       "      <td>1.942</td>\n",
       "      <td>1.895</td>\n",
       "      <td>1.913</td>\n",
       "      <td>0.010</td>\n",
       "      <td>1.905</td>\n",
       "      <td>228265.0</td>\n",
       "      <td>145826.0</td>\n",
       "    </tr>\n",
       "    <tr>\n",
       "      <th>2020-01-21</th>\n",
       "      <td>1.970</td>\n",
       "      <td>1.970</td>\n",
       "      <td>1.825</td>\n",
       "      <td>1.908</td>\n",
       "      <td>0.108</td>\n",
       "      <td>1.895</td>\n",
       "      <td>244684.0</td>\n",
       "      <td>162624.0</td>\n",
       "    </tr>\n",
       "    <tr>\n",
       "      <th>2020-01-17</th>\n",
       "      <td>2.077</td>\n",
       "      <td>2.078</td>\n",
       "      <td>1.994</td>\n",
       "      <td>2.003</td>\n",
       "      <td>0.074</td>\n",
       "      <td>2.003</td>\n",
       "      <td>205991.0</td>\n",
       "      <td>176427.0</td>\n",
       "    </tr>\n",
       "    <tr>\n",
       "      <th>2020-01-16</th>\n",
       "      <td>2.134</td>\n",
       "      <td>2.170</td>\n",
       "      <td>2.071</td>\n",
       "      <td>2.076</td>\n",
       "      <td>0.043</td>\n",
       "      <td>2.077</td>\n",
       "      <td>200915.0</td>\n",
       "      <td>186277.0</td>\n",
       "    </tr>\n",
       "    <tr>\n",
       "      <th>...</th>\n",
       "      <td>...</td>\n",
       "      <td>...</td>\n",
       "      <td>...</td>\n",
       "      <td>...</td>\n",
       "      <td>...</td>\n",
       "      <td>...</td>\n",
       "      <td>...</td>\n",
       "      <td>...</td>\n",
       "    </tr>\n",
       "    <tr>\n",
       "      <th>1990-04-09</th>\n",
       "      <td>1.612</td>\n",
       "      <td>1.640</td>\n",
       "      <td>1.612</td>\n",
       "      <td>1.637</td>\n",
       "      <td>NaN</td>\n",
       "      <td>1.637</td>\n",
       "      <td>37.0</td>\n",
       "      <td>145.0</td>\n",
       "    </tr>\n",
       "    <tr>\n",
       "      <th>1990-04-06</th>\n",
       "      <td>1.615</td>\n",
       "      <td>1.635</td>\n",
       "      <td>1.610</td>\n",
       "      <td>1.625</td>\n",
       "      <td>NaN</td>\n",
       "      <td>1.625</td>\n",
       "      <td>62.0</td>\n",
       "      <td>136.0</td>\n",
       "    </tr>\n",
       "    <tr>\n",
       "      <th>1990-04-05</th>\n",
       "      <td>1.615</td>\n",
       "      <td>1.635</td>\n",
       "      <td>1.610</td>\n",
       "      <td>1.615</td>\n",
       "      <td>NaN</td>\n",
       "      <td>1.615</td>\n",
       "      <td>57.0</td>\n",
       "      <td>112.0</td>\n",
       "    </tr>\n",
       "    <tr>\n",
       "      <th>1990-04-04</th>\n",
       "      <td>1.620</td>\n",
       "      <td>1.650</td>\n",
       "      <td>1.599</td>\n",
       "      <td>1.620</td>\n",
       "      <td>NaN</td>\n",
       "      <td>1.620</td>\n",
       "      <td>84.0</td>\n",
       "      <td>127.0</td>\n",
       "    </tr>\n",
       "    <tr>\n",
       "      <th>1990-04-03</th>\n",
       "      <td>1.580</td>\n",
       "      <td>1.655</td>\n",
       "      <td>1.580</td>\n",
       "      <td>1.635</td>\n",
       "      <td>NaN</td>\n",
       "      <td>1.635</td>\n",
       "      <td>240.0</td>\n",
       "      <td>110.0</td>\n",
       "    </tr>\n",
       "  </tbody>\n",
       "</table>\n",
       "<p>7474 rows × 8 columns</p>\n",
       "</div>"
      ],
      "text/plain": [
       "             Open   High    Low   Last  Change  Settle    Volume  \\\n",
       "Date                                                               \n",
       "2020-01-23  1.915  1.980  1.913  1.938   0.021   1.926  172317.0   \n",
       "2020-01-22  1.912  1.942  1.895  1.913   0.010   1.905  228265.0   \n",
       "2020-01-21  1.970  1.970  1.825  1.908   0.108   1.895  244684.0   \n",
       "2020-01-17  2.077  2.078  1.994  2.003   0.074   2.003  205991.0   \n",
       "2020-01-16  2.134  2.170  2.071  2.076   0.043   2.077  200915.0   \n",
       "...           ...    ...    ...    ...     ...     ...       ...   \n",
       "1990-04-09  1.612  1.640  1.612  1.637     NaN   1.637      37.0   \n",
       "1990-04-06  1.615  1.635  1.610  1.625     NaN   1.625      62.0   \n",
       "1990-04-05  1.615  1.635  1.610  1.615     NaN   1.615      57.0   \n",
       "1990-04-04  1.620  1.650  1.599  1.620     NaN   1.620      84.0   \n",
       "1990-04-03  1.580  1.655  1.580  1.635     NaN   1.635     240.0   \n",
       "\n",
       "            Previous Day Open Interest  \n",
       "Date                                    \n",
       "2020-01-23                     91025.0  \n",
       "2020-01-22                    145826.0  \n",
       "2020-01-21                    162624.0  \n",
       "2020-01-17                    176427.0  \n",
       "2020-01-16                    186277.0  \n",
       "...                                ...  \n",
       "1990-04-09                       145.0  \n",
       "1990-04-06                       136.0  \n",
       "1990-04-05                       112.0  \n",
       "1990-04-04                       127.0  \n",
       "1990-04-03                       110.0  \n",
       "\n",
       "[7474 rows x 8 columns]"
      ]
     },
     "execution_count": 8,
     "metadata": {},
     "output_type": "execute_result"
    }
   ],
   "source": [
    "data"
   ]
  },
  {
   "cell_type": "code",
   "execution_count": 14,
   "metadata": {},
   "outputs": [
    {
     "data": {
      "text/plain": [
       "True"
      ]
     },
     "execution_count": 14,
     "metadata": {},
     "output_type": "execute_result"
    }
   ],
   "source": [
    "isinstance(data.index, pd.DatetimeIndex)"
   ]
  },
  {
   "cell_type": "code",
   "execution_count": 15,
   "metadata": {},
   "outputs": [
    {
     "data": {
      "text/plain": [
       "True"
      ]
     },
     "execution_count": 15,
     "metadata": {},
     "output_type": "execute_result"
    }
   ],
   "source": [
    "data.index.is_all_dates"
   ]
  },
  {
   "cell_type": "code",
   "execution_count": 17,
   "metadata": {},
   "outputs": [
    {
     "data": {
      "text/plain": [
       "Open                             0\n",
       "High                             0\n",
       "Low                              0\n",
       "Last                             0\n",
       "Change                        5987\n",
       "Settle                           0\n",
       "Volume                           0\n",
       "Previous Day Open Interest       0\n",
       "dtype: int64"
      ]
     },
     "execution_count": 17,
     "metadata": {},
     "output_type": "execute_result"
    }
   ],
   "source": [
    "data.isna().sum()"
   ]
  },
  {
   "cell_type": "code",
   "execution_count": null,
   "metadata": {},
   "outputs": [],
   "source": []
  }
 ],
 "metadata": {
  "kernelspec": {
   "display_name": "Python 3",
   "language": "python",
   "name": "python3"
  },
  "language_info": {
   "codemirror_mode": {
    "name": "ipython",
    "version": 3
   },
   "file_extension": ".py",
   "mimetype": "text/x-python",
   "name": "python",
   "nbconvert_exporter": "python",
   "pygments_lexer": "ipython3",
   "version": "3.7.6"
  },
  "toc": {
   "base_numbering": 1,
   "nav_menu": {},
   "number_sections": true,
   "sideBar": true,
   "skip_h1_title": false,
   "title_cell": "Table of Contents",
   "title_sidebar": "Contents",
   "toc_cell": false,
   "toc_position": {},
   "toc_section_display": true,
   "toc_window_display": false
  }
 },
 "nbformat": 4,
 "nbformat_minor": 2
}
